{
 "cells": [
  {
   "attachments": {},
   "cell_type": "markdown",
   "metadata": {},
   "source": [
    "#### Inspecting topics and messages in a ROS bag file"
   ]
  },
  {
   "cell_type": "code",
   "execution_count": 1,
   "metadata": {},
   "outputs": [],
   "source": [
    "from fff import BaseBagDataExtractor\n",
    "from ccc import Topic\n",
    "from ddd import UserLocation"
   ]
  },
  {
   "cell_type": "code",
   "execution_count": 2,
   "metadata": {},
   "outputs": [],
   "source": [
    "TRIP_SEG = ('asdasd', 1670307168001, 1670307177939)\n",
    "USER_LOCATION = UserLocation.CN\n",
    "BAG_DIR = './bags'\n",
    "TOPIC_LIST = [Topic.CANBUS.value, Topic.CONTROL.value]"
   ]
  },
  {
   "cell_type": "code",
   "execution_count": 3,
   "metadata": {},
   "outputs": [
    {
     "name": "stdout",
     "output_type": "stream",
     "text": [
      "SKIP DOWNLOADING: rosbag cn_17134_20221206_140738_1670307168001_1670307177939.bag exists.\n",
      "had download_ros_bag BagReader, time is: 2024-02-19 18:26:02\n"
     ]
    }
   ],
   "source": [
    "trip_id, start_time, end_time = TRIP_SEG\n",
    "extractor = BaseBagDataExtractor(BAG_DIR, start_time, end_time, trip_id,\n",
    "                                topics=TOPIC_LIST,\n",
    "                                user_location=USER_LOCATION)\n",
    "extractor.download_ros_bag()\n"
   ]
  },
  {
   "cell_type": "code",
   "execution_count": 6,
   "metadata": {},
   "outputs": [
    {
     "name": "stdout",
     "output_type": "stream",
     "text": [
      "/gateway <class 'voy_protos.canbus_pb2.Canbus'> <class 'rospy.rostime.Time'>\n"
     ]
    }
   ],
   "source": [
    "messages = extractor.read_ros_bag()\n",
    "\n",
    "one_msg = None\n",
    "one_ros_t = None\n",
    "for topic, msg, ros_time in messages:\n",
    "  print(topic, type(msg), type(ros_time))\n",
    "  one_msg = msg\n",
    "  one_ros_t = ros_time\n",
    "  break"
   ]
  },
  {
   "cell_type": "code",
   "execution_count": 7,
   "metadata": {},
   "outputs": [
    {
     "data": {
      "text/plain": [
       "1670307168001"
      ]
     },
     "execution_count": 7,
     "metadata": {},
     "output_type": "execute_result"
    }
   ],
   "source": [
    "# ROS message time in milliseconds.\n",
    "int(one_ros_t.to_nsec() // 1e6)"
   ]
  },
  {
   "cell_type": "code",
   "execution_count": null,
   "metadata": {},
   "outputs": [],
   "source": []
  }
 ],
 "metadata": {
  "kernelspec": {
   "display_name": "Python 3",
   "language": "python",
   "name": "python3"
  },
  "language_info": {
   "codemirror_mode": {
    "name": "ipython",
    "version": 3
   },
   "file_extension": ".py",
   "mimetype": "text/x-python",
   "name": "python",
   "nbconvert_exporter": "python",
   "pygments_lexer": "ipython3",
   "version": "3.7.3"
  },
  "orig_nbformat": 4
 },
 "nbformat": 4,
 "nbformat_minor": 2
}
